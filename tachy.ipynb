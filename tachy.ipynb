{
 "cells": [
  {
   "cell_type": "code",
   "execution_count": 1,
   "id": "cb060b2a",
   "metadata": {},
   "outputs": [],
   "source": [
    "import cryptography\n",
    "from cryptography.hazmat.primitives import serialization\n",
    "from cryptography.hazmat.backends import default_backend\n",
    "from cryptography.hazmat.primitives.asymmetric import rsa"
   ]
  },
  {
   "cell_type": "code",
   "execution_count": 2,
   "id": "6053c044",
   "metadata": {},
   "outputs": [],
   "source": [
    "## Generate public and private key pair\n",
    "private_key = rsa.generate_private_key(\n",
    "    public_exponent=65537,\n",
    "    key_size=2048,\n",
    "    backend=default_backend()\n",
    ")\n",
    "public_key = private_key.public_key()\n"
   ]
  },
  {
   "cell_type": "code",
   "execution_count": 37,
   "id": "1eaba82f",
   "metadata": {},
   "outputs": [],
   "source": [
    "## Write private key to file\n",
    "pem = private_key.private_bytes(\n",
    "    encoding=serialization.Encoding.PEM,\n",
    "    format=serialization.PrivateFormat.PKCS8,\n",
    "    encryption_algorithm=serialization.NoEncryption()\n",
    ")\n",
    "\n",
    "# pem.splitlines()[2]\n",
    "\n",
    "with open('private_key.pem', 'wb') as f:\n",
    "    f.write(pem)"
   ]
  },
  {
   "cell_type": "code",
   "execution_count": 38,
   "id": "22a556e4",
   "metadata": {},
   "outputs": [],
   "source": [
    "## Write public key to file\n",
    "pem = public_key.public_bytes(\n",
    "    encoding=serialization.Encoding.PEM,\n",
    "    format=serialization.PublicFormat.SubjectPublicKeyInfo\n",
    ")\n",
    "\n",
    "with open('public_key.pem', 'wb') as f:\n",
    "    f.write(pem)"
   ]
  },
  {
   "cell_type": "code",
   "execution_count": 39,
   "id": "169df912",
   "metadata": {},
   "outputs": [],
   "source": [
    "## Load private key\n",
    "with open(\"private_key.pem\", \"rb\") as key_file:\n",
    "    private_key = serialization.load_pem_private_key(\n",
    "        key_file.read(),\n",
    "        password=None,\n",
    "        backend=default_backend()\n",
    "    )"
   ]
  },
  {
   "cell_type": "code",
   "execution_count": 40,
   "id": "bc4f8a6c",
   "metadata": {},
   "outputs": [],
   "source": [
    "## Load public key\n",
    "\n",
    "with open(\"public_key.pem\", \"rb\") as key_file:\n",
    "    public_key = serialization.load_pem_public_key(\n",
    "        key_file.read(),\n",
    "        backend=default_backend()\n",
    "    )"
   ]
  },
  {
   "cell_type": "code",
   "execution_count": null,
   "id": "dc29cf35",
   "metadata": {},
   "outputs": [],
   "source": [
    "#read mmessage to encrypt from a file\n",
    "f = open('test.txt', 'rb')\n",
    "message = f.read()\n",
    "f.close()"
   ]
  },
  {
   "cell_type": "code",
   "execution_count": 104,
   "id": "4a744fb9",
   "metadata": {},
   "outputs": [],
   "source": [
    "## Encrypting\n",
    "\n",
    "from cryptography.hazmat.primitives import hashes\n",
    "from cryptography.hazmat.primitives.asymmetric import padding\n",
    "\n",
    "message = b'i am an apple pie'\n",
    "\n",
    "encrypted = public_key.encrypt(\n",
    "    message,\n",
    "    padding.OAEP(\n",
    "        mgf=padding.MGF1(algorithm=hashes.SHA256()),\n",
    "        algorithm=hashes.SHA256(),\n",
    "        label=None\n",
    "    )\n",
    ")\n",
    "\n"
   ]
  },
  {
   "cell_type": "code",
   "execution_count": null,
   "id": "b3f4f49b",
   "metadata": {},
   "outputs": [],
   "source": []
  },
  {
   "cell_type": "code",
   "execution_count": 105,
   "id": "0e53cac5",
   "metadata": {},
   "outputs": [
    {
     "name": "stdout",
     "output_type": "stream",
     "text": [
      "b'(.Cc\\xfa\\t\\x7f_\\x9a\\xc2H\\xa9=\\xf2\\'\\xe0\\xe6j\\x93\\xce\\xde\\xcf\\xbd\\xdai%\\xca\\x1e\\xd6\\xa27\\xae8\\x9aA\\xe4&\\x83\\x81P\\xa7\\xb1YD\\xdf\\x81\\x14_\\xb0\\x84\\t,\\x9e\\xfeDgh\\xdb\\xf1o\\'\\xe3\\xec\\x99\\xe4?S\\xa8\\xf8\\x80\\xd7\\xe7S\\xc0\\x86\\xbbC\\x03s~@\\x9b\\r^\\xf6\\x7f/\\x86.\\x12\\x13\\nd\\xe9\\x11\\xc6\\x00zoj\\xc0\\x94\\x8d\\xf6R{w\\x00\\xd7\\x1d\\xdb\"\\xbf\\xbc\\x7f\\xf6j\\xfc\\x87\\xc1\\'P/\\x9c\\x8a\\x02Q\\x92oS\\xe1C\\x13\\xc7N\\xfb2\\xf1\\x0c\\x14\\xdaB\\r_\\xce\\xb5\\xbb\\xf6v\\x86\\xcd8D\\x92\\xf2\\x83D <\\x0b\\x1b\\x07ka\\xa52\\x0b\\x8b\\xba\\xfd\\xe3\\x05\\xf9E:\\xcc\\xdfx\\xc0\\xb6\\xfb\\xaf\\x1b\\x04A\\x19p\\xbd\\xa1\\x83\\x1a\\xf2\\x0b\\x95`X6\\x13\\x83s\\xa6z\\xfd]|\\xbf\\xd1\\x14\\x06\\xe4\\x0c\\xa7\\x9d\\x1d\\xc5Di\\xe5D\\x8f\\xb8\\xfa\\xb7\\xa5\\xa8yvYF:\\x124\\x97\\xc7\\xf3\\xd3\\x04\\xd5\\x0clr\\xc4\\xd4\\x13vN\\xffGH\\xe5\\x06\\xcf\\x8f\\xed\\x0b\\xa9'\n"
     ]
    }
   ],
   "source": [
    "print(encrypted)"
   ]
  },
  {
   "cell_type": "code",
   "execution_count": 106,
   "id": "9224dc5d",
   "metadata": {},
   "outputs": [],
   "source": [
    "f = open('test.encrypted', 'wb')\n",
    "f.write(encrypted)\n",
    "f.close()"
   ]
  },
  {
   "cell_type": "code",
   "execution_count": null,
   "id": "4fd7f09a",
   "metadata": {},
   "outputs": [],
   "source": []
  },
  {
   "cell_type": "code",
   "execution_count": 102,
   "id": "9a3f8426",
   "metadata": {},
   "outputs": [],
   "source": [
    "## Decrypting\n",
    "\n",
    "original_message = private_key.decrypt(\n",
    "    encrypted,\n",
    "    padding.OAEP(\n",
    "        mgf=padding.MGF1(algorithm=hashes.SHA256()),\n",
    "        algorithm=hashes.SHA256(),\n",
    "        label=None\n",
    "    )\n",
    ")"
   ]
  },
  {
   "cell_type": "code",
   "execution_count": 103,
   "id": "238008d5",
   "metadata": {},
   "outputs": [
    {
     "name": "stdout",
     "output_type": "stream",
     "text": [
      "i am an apple pie\n"
     ]
    }
   ],
   "source": [
    "#remove b in front of the decrypted message\n",
    "print(original_message.decode('utf-8'))"
   ]
  },
  {
   "cell_type": "code",
   "execution_count": 107,
   "id": "2016df63",
   "metadata": {},
   "outputs": [
    {
     "name": "stdout",
     "output_type": "stream",
     "text": [
      "KC5DY/oJf1+awkipPfIn4OZqk87ez73aaSXKHtaiN644mkHkJoOBUKexWUTfgRRfsIQJLJ7+RGdo2/FvJ+PsmeQ/U6j4gNfnU8CGu0MDc35Amw1e9n8vhi4SEwpk6RHGAHpvasCUjfZSe3cA1x3bIr+8f/Zq/IfBJ1AvnIoCUZJvU+FDE8dO+zLxDBTaQg1fzrW79naGzThEkvKDRCA8CxsHa2GlMguLuv3jBflFOszfeMC2+68bBEEZcL2hgxryC5VgWDYTg3Omev1dfL/RFAbkDKedHcVEaeVEj7j6t6WoeXZZRjoSNJfH89ME1QxscsTUE3ZO/0dI5QbPj+0LqQ==\n"
     ]
    }
   ],
   "source": [
    "# covert encrypted bytes into utf-8 encoded string\n",
    "import base64\n",
    "b64_string = str(base64.b64encode(encrypted),'utf-8')\n",
    "print(b64_string)"
   ]
  },
  {
   "cell_type": "code",
   "execution_count": 108,
   "id": "fff81004",
   "metadata": {},
   "outputs": [],
   "source": [
    "t =  base64.b64decode(b64_string)"
   ]
  },
  {
   "cell_type": "code",
   "execution_count": 109,
   "id": "f578701b",
   "metadata": {},
   "outputs": [
    {
     "name": "stdout",
     "output_type": "stream",
     "text": [
      "b'(.Cc\\xfa\\t\\x7f_\\x9a\\xc2H\\xa9=\\xf2\\'\\xe0\\xe6j\\x93\\xce\\xde\\xcf\\xbd\\xdai%\\xca\\x1e\\xd6\\xa27\\xae8\\x9aA\\xe4&\\x83\\x81P\\xa7\\xb1YD\\xdf\\x81\\x14_\\xb0\\x84\\t,\\x9e\\xfeDgh\\xdb\\xf1o\\'\\xe3\\xec\\x99\\xe4?S\\xa8\\xf8\\x80\\xd7\\xe7S\\xc0\\x86\\xbbC\\x03s~@\\x9b\\r^\\xf6\\x7f/\\x86.\\x12\\x13\\nd\\xe9\\x11\\xc6\\x00zoj\\xc0\\x94\\x8d\\xf6R{w\\x00\\xd7\\x1d\\xdb\"\\xbf\\xbc\\x7f\\xf6j\\xfc\\x87\\xc1\\'P/\\x9c\\x8a\\x02Q\\x92oS\\xe1C\\x13\\xc7N\\xfb2\\xf1\\x0c\\x14\\xdaB\\r_\\xce\\xb5\\xbb\\xf6v\\x86\\xcd8D\\x92\\xf2\\x83D <\\x0b\\x1b\\x07ka\\xa52\\x0b\\x8b\\xba\\xfd\\xe3\\x05\\xf9E:\\xcc\\xdfx\\xc0\\xb6\\xfb\\xaf\\x1b\\x04A\\x19p\\xbd\\xa1\\x83\\x1a\\xf2\\x0b\\x95`X6\\x13\\x83s\\xa6z\\xfd]|\\xbf\\xd1\\x14\\x06\\xe4\\x0c\\xa7\\x9d\\x1d\\xc5Di\\xe5D\\x8f\\xb8\\xfa\\xb7\\xa5\\xa8yvYF:\\x124\\x97\\xc7\\xf3\\xd3\\x04\\xd5\\x0clr\\xc4\\xd4\\x13vN\\xffGH\\xe5\\x06\\xcf\\x8f\\xed\\x0b\\xa9'\n"
     ]
    }
   ],
   "source": [
    "print(t)"
   ]
  },
  {
   "cell_type": "code",
   "execution_count": null,
   "id": "1bd4a632",
   "metadata": {},
   "outputs": [],
   "source": []
  },
  {
   "cell_type": "code",
   "execution_count": null,
   "id": "9bb61ac7",
   "metadata": {},
   "outputs": [],
   "source": []
  },
  {
   "cell_type": "code",
   "execution_count": null,
   "id": "259daabf",
   "metadata": {},
   "outputs": [],
   "source": []
  }
 ],
 "metadata": {
  "kernelspec": {
   "display_name": "Python 3 (ipykernel)",
   "language": "python",
   "name": "python3"
  },
  "language_info": {
   "codemirror_mode": {
    "name": "ipython",
    "version": 3
   },
   "file_extension": ".py",
   "mimetype": "text/x-python",
   "name": "python",
   "nbconvert_exporter": "python",
   "pygments_lexer": "ipython3",
   "version": "3.10.0"
  }
 },
 "nbformat": 4,
 "nbformat_minor": 5
}
